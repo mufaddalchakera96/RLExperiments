{
 "cells": [
  {
   "cell_type": "code",
   "execution_count": null,
   "id": "10f2aa86-eeb2-426b-acd7-ee88e44524e2",
   "metadata": {},
   "outputs": [],
   "source": [
    "import numpy as np\n",
    "from keras.models import Sequential, load_model\n",
    "from keras.layers import Dense\n",
    "import tensorflow as tf\n",
    "import random\n",
    "from datetime import datetime\n",
    "import seaborn as sns\n",
    "import matplotlib.pyplot as plt\n",
    "random.seed(datetime.now())"
   ]
  },
  {
   "cell_type": "code",
   "execution_count": null,
   "id": "e7b50d4a-7a08-42ad-8d38-62114f5ba988",
   "metadata": {},
   "outputs": [],
   "source": [
    "%run Grid.ipynb\n",
    "%run ActorCriticAgent.ipynb"
   ]
  },
  {
   "cell_type": "code",
   "execution_count": null,
   "id": "b7a1a67f-9e7a-4ffc-92ca-f63637b147d3",
   "metadata": {},
   "outputs": [],
   "source": [
    "NUM_EPISODES = 20000\n",
    "MAX_MOVES = 100\n",
    "REPLAY_INTERVAL = 50\n",
    "LOG_FILE = \"replays.txt\"\n",
    "\n",
    "log_file = open(LOG_FILE, \"a\")\n",
    "print(\"Starting New Run\", file=log_file)\n",
    "\n",
    "agent = Agent(0.01, 0.01, memory_size=5000)\n",
    "rewards = []\n",
    "epsilon = 0 # No forced randomness\n",
    "epsilon_decay = 0.995\n",
    "\n",
    "for e in range(NUM_EPISODES):\n",
    "    print(\"\\r Episode : \" + str(e), end = \"\")\n",
    "    train = True if (e // REPLAY_INTERVAL > 0 and e % REPLAY_INTERVAL == 0) else False\n",
    "    width = random.randint(5, 25)\n",
    "    height = width #random.randint(1, 100)\n",
    "    MAX_MOVES = 2.5 * (width + height)\n",
    "    grid = Grid(width, height, random.randint(0, height - 1), random.randint(0, width - 1), \n",
    "                random.randint(0, height - 1), random.randint(0, width - 1), num_obstacles=random.randint(0, 0))\n",
    "    gs0, gameOver = grid.getState()\n",
    "    moves = 0\n",
    "    cum_reward = 0\n",
    "    \n",
    "    if(train):\n",
    "        print(\"New Game : %s\" % (grid.getState2()), file = log_file)\n",
    "        print(\"Episode : \" + str(e), file = log_file)\n",
    "        print(grid.getObstacles(), file = log_file)\n",
    "    \n",
    "    while(gameOver == False and moves < MAX_MOVES):\n",
    "        moves += 1\n",
    "        gs0, _ = grid.getState()\n",
    "        action = agent.choose_action(gs0, ep=epsilon)\n",
    "        gs1, reward = grid.move(action)\n",
    "        gameOver = gs1[1]\n",
    "        gs1 = gs1[0]\n",
    "        agent.stateTransition(gs0, action, reward, gs1, gameOver)\n",
    "        cum_reward += reward\n",
    "        if(train):\n",
    "            print(grid.getState2(), file = log_file)\n",
    "    \n",
    "    rewards.append(cum_reward)\n",
    "    epsilon *= epsilon_decay\n",
    "    if(train):\n",
    "        # break\n",
    "        sns.lineplot(x = range(len(rewards)), y = rewards)\n",
    "        plt.savefig(f\"figures/rewards.png\")\n",
    "        plt.clf()\n",
    "        if(gameOver):\n",
    "            print(\"GAME OVER!\", file = log_file)\n",
    "        log_file.flush()\n",
    "        agent.learn()\n",
    "\n",
    "log_file.close()"
   ]
  },
  {
   "cell_type": "code",
   "execution_count": null,
   "id": "a1325c63-889e-4628-b56e-98ecbb76a25a",
   "metadata": {},
   "outputs": [],
   "source": [
    "log_file.close()"
   ]
  }
 ],
 "metadata": {
  "kernelspec": {
   "display_name": "Python 3",
   "language": "python",
   "name": "python3"
  },
  "language_info": {
   "codemirror_mode": {
    "name": "ipython",
    "version": 3
   },
   "file_extension": ".py",
   "mimetype": "text/x-python",
   "name": "python",
   "nbconvert_exporter": "python",
   "pygments_lexer": "ipython3",
   "version": "3.8.8"
  }
 },
 "nbformat": 4,
 "nbformat_minor": 5
}
